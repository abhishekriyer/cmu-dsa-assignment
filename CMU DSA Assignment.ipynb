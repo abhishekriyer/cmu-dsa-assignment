{
 "cells": [
  {
   "cell_type": "code",
   "execution_count": 3,
   "id": "def991cf",
   "metadata": {},
   "outputs": [
    {
     "name": "stdout",
     "output_type": "stream",
     "text": [
      "7\n"
     ]
    }
   ],
   "source": [
    "inp = open(\"1.in\", \"r\")#Open File \n",
    "inL=inp.readlines() #Open File and Assign to an initial List\n",
    "inp.close()\n",
    "N=int(inL[0]) if inL else 0 #Get the N value\n",
    "i=0\n",
    "l=[[int(inL[i].split(\" \")[0]),int(inL[i].split(\" \")[1])] for i in range(1,N+1)] #List of Starting points and End points put in pairs\n",
    "l.sort()\n",
    "\n",
    "contshifts=[]                           \n",
    "maxTimeList=[]\n",
    "maxTime=0\n",
    "\n",
    "for i,ele in enumerate(l):\n",
    "    maxTime=0\n",
    "    ci=-1\n",
    "    for j,ele2 in enumerate(l):\n",
    "            \n",
    "        if j!=i:\n",
    "            \n",
    "            if ci==-1:\n",
    "                locEle=ele2\n",
    "                \n",
    "            elif contshifts and ele2[0] in range(contshifts[ci][0],contshifts[ci][1]):  #If Part of shift Overlapping (Initial Portion)\n",
    "\n",
    "                locEle=[contshifts[ci][1],ele2[1]]\n",
    "               \n",
    "\n",
    "\n",
    "            elif contshifts and ele2[1] in range(contshifts[ci][0],contshifts[ci][1]):  #If Part of shift Overlapping (Latter Portion)\n",
    "\n",
    "                locEle=[ele2[0],contshifts[ci][0]-1]\n",
    "                \n",
    "\n",
    "            else:                                                       #Shift is a new entry      \n",
    "                locEle=ele2 \n",
    "\n",
    "           \n",
    "            contshifts.append(locEle)\n",
    "            ci=ci+1\n",
    "            shiftTime=locEle[1]-locEle[0]\n",
    "            maxTime+=shiftTime\n",
    "\n",
    "                    \n",
    "\n",
    "\n",
    "    contshifts.clear()       \n",
    "    maxTimeList.append(maxTime)\n",
    "\n",
    "    \n",
    "finalMax=max(maxTimeList)\n",
    "\n",
    "out=open(\"1.out\",\"w+\")\n",
    "out.write(str(finalMax))\n",
    "out.close()\n",
    "    \n",
    "    "
   ]
  }
 ],
 "metadata": {
  "kernelspec": {
   "display_name": "Python 3",
   "language": "python",
   "name": "python3"
  },
  "language_info": {
   "codemirror_mode": {
    "name": "ipython",
    "version": 3
   },
   "file_extension": ".py",
   "mimetype": "text/x-python",
   "name": "python",
   "nbconvert_exporter": "python",
   "pygments_lexer": "ipython3",
   "version": "3.8.8"
  }
 },
 "nbformat": 4,
 "nbformat_minor": 5
}
